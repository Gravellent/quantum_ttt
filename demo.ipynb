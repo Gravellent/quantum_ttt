{
 "cells": [
  {
   "cell_type": "code",
   "execution_count": 1,
   "metadata": {},
   "outputs": [],
   "source": [
    "from Player import *\n",
    "from State import *\n",
    "from collections import Counter"
   ]
  },
  {
   "cell_type": "code",
   "execution_count": 6,
   "metadata": {},
   "outputs": [
    {
     "name": "stdout",
     "output_type": "stream",
     "text": [
      "Train Counter({1: 126, -1: 43, 0: 31})\n",
      "Eval P1 win 64.5 %, Tie 15.0 %\n",
      "Train Counter({1: 125, -1: 42, 0: 33})\n",
      "Eval P1 win 77.5 %, Tie 9.0 %\n",
      "Train Counter({1: 131, -1: 42, 0: 27})\n",
      "Eval P1 win 70.0 %, Tie 14.499999999999998 %\n",
      "Train Counter({1: 124, -1: 38, 0: 38})\n",
      "Eval P1 win 79.0 %, Tie 12.0 %\n",
      "Train Counter({1: 135, 0: 34, -1: 31})\n",
      "Eval P1 win 71.0 %, Tie 13.5 %\n",
      "Train Counter({1: 133, 0: 36, -1: 31})\n",
      "Eval P1 win 76.0 %, Tie 11.0 %\n",
      "Train Counter({1: 139, -1: 32, 0: 29})\n",
      "Eval P1 win 72.0 %, Tie 13.5 %\n",
      "Train Counter({1: 134, -1: 35, 0: 31})\n",
      "Eval P1 win 70.5 %, Tie 10.0 %\n",
      "Train Counter({1: 147, -1: 28, 0: 25})\n",
      "Eval P1 win 79.0 %, Tie 12.0 %\n",
      "Train Counter({1: 131, -1: 44, 0: 25})\n",
      "Eval P1 win 75.0 %, Tie 12.0 %\n"
     ]
    }
   ],
   "source": [
    "p1 = Player(\"p1\", update_method='sarsa')\n",
    "p2 = RandomPlayer(\"p2\")\n",
    "\n",
    "st = State(p1, p2)\n",
    "\n",
    "for i in range(10):\n",
    "    # Train\n",
    "    st.results = []\n",
    "    p1.exp_rate = 0.3\n",
    "    p2.exp_rate = 0.3\n",
    "    st.play(200)\n",
    "    print('Train', Counter(st.results))\n",
    "    \n",
    "    # Eval\n",
    "    st.results = []\n",
    "    p1.exp_rate = 0\n",
    "    p2.exp_rate = 0\n",
    "    st.play(200)\n",
    "    print('Eval P1 win', Counter(st.results)[1] / 200 * 100, '%, Tie', Counter(st.results)[0] / 200 * 100, '%')\n",
    "    \n",
    "    \n",
    "    "
   ]
  },
  {
   "cell_type": "code",
   "execution_count": 7,
   "metadata": {},
   "outputs": [
    {
     "name": "stdout",
     "output_type": "stream",
     "text": [
      "Train Counter({1: 108, -1: 47, 0: 45})\n",
      "Eval P1 win 57.99999999999999 %, Tie 21.0 %\n",
      "Train Counter({1: 115, 0: 49, -1: 36})\n",
      "Eval P1 win 59.0 %, Tie 20.5 %\n",
      "Train Counter({1: 123, 0: 43, -1: 34})\n",
      "Eval P1 win 56.00000000000001 %, Tie 24.0 %\n",
      "Train Counter({1: 126, 0: 38, -1: 36})\n",
      "Eval P1 win 61.5 %, Tie 21.0 %\n",
      "Train Counter({1: 123, 0: 39, -1: 38})\n",
      "Eval P1 win 55.50000000000001 %, Tie 19.5 %\n",
      "Train Counter({1: 103, 0: 57, -1: 40})\n",
      "Eval P1 win 53.0 %, Tie 26.5 %\n",
      "Train Counter({1: 120, -1: 43, 0: 37})\n",
      "Eval P1 win 60.0 %, Tie 22.5 %\n",
      "Train Counter({1: 114, 0: 43, -1: 43})\n",
      "Eval P1 win 63.5 %, Tie 24.0 %\n",
      "Train Counter({1: 111, 0: 49, -1: 40})\n",
      "Eval P1 win 61.5 %, Tie 24.0 %\n",
      "Train Counter({1: 116, 0: 50, -1: 34})\n",
      "Eval P1 win 53.5 %, Tie 29.5 %\n"
     ]
    }
   ],
   "source": [
    "p1 = RandomPlayer(\"p1\")\n",
    "p2 = RandomPlayer(\"p2\")\n",
    "\n",
    "st = State(p1, p2)\n",
    "\n",
    "for i in range(10):\n",
    "    # Train\n",
    "    st.results = []\n",
    "    p1.exp_rate = 0.3\n",
    "    p2.exp_rate = 0.3\n",
    "    st.play(200)\n",
    "    print('Train', Counter(st.results))\n",
    "    \n",
    "    # Eval\n",
    "    st.results = []\n",
    "    p1.exp_rate = 0\n",
    "    p2.exp_rate = 0\n",
    "    st.play(200)\n",
    "    print('Eval P1 win', Counter(st.results)[1] / 200 * 100, '%, Tie', Counter(st.results)[0] / 200 * 100, '%')\n",
    "    \n",
    "    \n",
    "    "
   ]
  },
  {
   "cell_type": "code",
   "execution_count": 8,
   "metadata": {},
   "outputs": [
    {
     "name": "stdout",
     "output_type": "stream",
     "text": [
      "Train Counter({1: 100, 0: 56, -1: 44})\n",
      "Eval P1 win 58.5 %, Tie 40.0 %\n",
      "Train Counter({1: 107, 0: 65, -1: 28})\n",
      "Eval P1 win 53.5 %, Tie 0.0 %\n",
      "Train Counter({1: 117, -1: 55, 0: 28})\n",
      "Eval P1 win 28.999999999999996 %, Tie 68.0 %\n",
      "Train Counter({1: 102, 0: 62, -1: 36})\n",
      "Eval P1 win 54.0 %, Tie 0.0 %\n",
      "Train Counter({1: 95, -1: 56, 0: 49})\n",
      "Eval P1 win 57.99999999999999 %, Tie 1.0 %\n",
      "Train Counter({1: 85, 0: 62, -1: 53})\n",
      "Eval P1 win 39.5 %, Tie 26.0 %\n",
      "Train Counter({1: 114, 0: 52, -1: 34})\n",
      "Eval P1 win 83.5 %, Tie 0.0 %\n",
      "Train Counter({1: 125, 0: 39, -1: 36})\n",
      "Eval P1 win 73.0 %, Tie 11.0 %\n",
      "Train Counter({1: 127, -1: 43, 0: 30})\n",
      "Eval P1 win 54.50000000000001 %, Tie 2.5 %\n",
      "Train Counter({1: 107, -1: 47, 0: 46})\n",
      "Eval P1 win 69.5 %, Tie 11.0 %\n"
     ]
    }
   ],
   "source": [
    "p1 = Player(\"p1\")\n",
    "p2 = Player(\"p2\")\n",
    "\n",
    "st = State(p1, p2)\n",
    "\n",
    "for i in range(10):\n",
    "    # Train\n",
    "    st.results = []\n",
    "    p1.exp_rate = 0.3\n",
    "    p2.exp_rate = 0.3\n",
    "    st.play(200)\n",
    "    print('Train', Counter(st.results))\n",
    "    \n",
    "    # Eval\n",
    "    st.results = []\n",
    "    p1.exp_rate = 0\n",
    "    p2.exp_rate = 0\n",
    "    st.play(200)\n",
    "    print('Eval P1 win', Counter(st.results)[1] / 200 * 100, '%, Tie', Counter(st.results)[0] / 200 * 100, '%')\n",
    "    \n",
    "    \n",
    "    "
   ]
  },
  {
   "cell_type": "code",
   "execution_count": null,
   "metadata": {},
   "outputs": [],
   "source": []
  }
 ],
 "metadata": {
  "kernelspec": {
   "display_name": "Python 3",
   "language": "python",
   "name": "python3"
  },
  "language_info": {
   "codemirror_mode": {
    "name": "ipython",
    "version": 3
   },
   "file_extension": ".py",
   "mimetype": "text/x-python",
   "name": "python",
   "nbconvert_exporter": "python",
   "pygments_lexer": "ipython3",
   "version": "3.8.3"
  }
 },
 "nbformat": 4,
 "nbformat_minor": 4
}
